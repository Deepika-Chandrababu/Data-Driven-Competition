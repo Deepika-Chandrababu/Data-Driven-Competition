{
 "cells": [
  {
   "cell_type": "markdown",
   "metadata": {},
   "source": [
    "# INFO-F-422 -  Statistical Foundations of Machine Learning \n",
    "\n",
    "### Student 1 - [Melba.Raj.Sathyaraj.Mahila@vub.be](mailto:student1@ulb.ac.be) - Student ID 0574202\n",
    "### Student 2 - [Deepika.Chandrababu@vub.be](mailto:student2@ulb.ac.be) - Student ID 0572230\n",
    "### Student 3 - [Nicolas.J.Boucher@ulb.be](mailto:student3@ulb.ac.be) - Student ID 000467388\n",
    "\n",
    "### Video presentation: www.youtube.com/abcd1234\n",
    "\n",
    "## Project Title\n"
   ]
  },
  {
   "cell_type": "markdown",
   "metadata": {},
   "source": [
    "# Introduction\n"
   ]
  },
  {
   "cell_type": "code",
   "execution_count": 83,
   "metadata": {
    "scrolled": true
   },
   "outputs": [],
   "source": [
    "library(ISwR)\n",
    "# install.packages('naniar')\n",
    "library(naniar)\n",
    "# install.packages('dplyr')\n",
    "library(dplyr)"
   ]
  },
  {
   "cell_type": "markdown",
   "metadata": {},
   "source": [
    "## Data description"
   ]
  },
  {
   "cell_type": "markdown",
   "metadata": {},
   "source": [
    "source: https://www.drivendata.org/competitions/7/pump-it-up-data-mining-the-water-table/page/25/\n",
    "\n",
    "| feature name | meaning |\n",
    "|:--------------|:---------|\n",
    "| amount_tsh | Total static head (amount water available to waterpoint)|\n",
    "| date_recorded | The date the row was entered |\n",
    "| funder | Who funded the well |\n",
    "| gps_height | Altitude of the well |\n",
    "| installer | Organization that installed the well |\n",
    "| longitude | GPS coordinate |\n",
    "| latitude | GPS coordinate |\n",
    "| wpt_name | Name of the waterpoint if there is one |\n",
    "| num_private | No description |\n",
    "| basin | Geographic water basin |\n",
    "| subvillage | Geographic location |\n",
    "| region | Geographic location |\n",
    "| region_code | Geographic location (coded) |\n",
    "| district_code | Geographic location (coded) |\n",
    "| lga | Geographic location |\n",
    "| ward | Geographic location |\n",
    "| population | Population around the well |\n",
    "| public_meeting | True/False |\n",
    "| recorded_by | Group entering this row of data |\n",
    "| scheme_management | Who operates the waterpoint |\n",
    "| scheme_name | Who operates the waterpoint |\n",
    "| permit | If the waterpoint is permitted |\n",
    "| construction_year | Year the waterpoint was constructed |\n",
    "| extraction_type | The kind of extraction the waterpoint uses |\n",
    "| extraction_type_group | The kind of extraction the waterpoint uses |\n",
    "| extraction_type_class | The kind of extraction the waterpoint uses |\n",
    "| management | How the waterpoint is managed |\n",
    "| management_group | How the waterpoint is managed |\n",
    "| payment | What the water costs |\n",
    "| payment_type | What the water costs |\n",
    "| water_quality | The quality of the water |\n",
    "| quality_group | The quality of the water |\n",
    "| quantity | The quantity of water |\n",
    "| quantity_group | The quantity of water |\n",
    "| source | The source of the water |\n",
    "| source_type | The source of the water |\n",
    "| source_class | The source of the water |\n",
    "| waterpoint_type | The kind of waterpoint |\n",
    "| waterpoint_type_group | The kind of waterpoint |"
   ]
  },
  {
   "cell_type": "markdown",
   "metadata": {},
   "source": [
    "# Data preprocessing\n",
    "\n",
    "## Missing value imputation\n",
    "\n",
    "## Feature engineering\n",
    "\n",
    "## Feature selection\n",
    "\n"
   ]
  },
  {
   "cell_type": "code",
   "execution_count": 95,
   "metadata": {
    "scrolled": true
   },
   "outputs": [
    {
     "name": "stdout",
     "output_type": "stream",
     "text": [
      "Training data: \n",
      "\tDimensions [ 59400 40 ] \n",
      "\tDimensions without NA: [ 27813 40 ] \n",
      "\tColumns: see below\n",
      "Training labels: \n",
      "\tDimensions [ 59400 2 ] \n",
      "\tDimensions without NA: [ 59400 2 ] \n",
      "\tColumns: ID and status"
     ]
    },
    {
     "data": {
      "text/html": [
       "<table class=\"dataframe\">\n",
       "<caption>A tibble: 40 × 3</caption>\n",
       "<thead>\n",
       "\t<tr><th scope=col>variable</th><th scope=col>n_miss</th><th scope=col>pct_miss</th></tr>\n",
       "\t<tr><th scope=col>&lt;chr&gt;</th><th scope=col>&lt;int&gt;</th><th scope=col>&lt;dbl&gt;</th></tr>\n",
       "</thead>\n",
       "<tbody>\n",
       "\t<tr><td>scheme_name      </td><td>28166</td><td>47.417508</td></tr>\n",
       "\t<tr><td>scheme_management</td><td> 3877</td><td> 6.526936</td></tr>\n",
       "\t<tr><td>installer        </td><td> 3655</td><td> 6.153199</td></tr>\n",
       "\t<tr><td>funder           </td><td> 3635</td><td> 6.119529</td></tr>\n",
       "\t<tr><td>public_meeting   </td><td> 3334</td><td> 5.612795</td></tr>\n",
       "\t<tr><td>...</td><td>...</td><td>...</td></tr>\n",
       "\t<tr><td>source               </td><td>0</td><td>0</td></tr>\n",
       "\t<tr><td>source_type          </td><td>0</td><td>0</td></tr>\n",
       "\t<tr><td>source_class         </td><td>0</td><td>0</td></tr>\n",
       "\t<tr><td>waterpoint_type      </td><td>0</td><td>0</td></tr>\n",
       "\t<tr><td>waterpoint_type_group</td><td>0</td><td>0</td></tr>\n",
       "</tbody>\n",
       "</table>\n"
      ],
      "text/latex": [
       "A tibble: 40 × 3\n",
       "\\begin{tabular}{lll}\n",
       " variable & n\\_miss & pct\\_miss\\\\\n",
       " <chr> & <int> & <dbl>\\\\\n",
       "\\hline\n",
       "\t scheme\\_name       & 28166 & 47.417508\\\\\n",
       "\t scheme\\_management &  3877 &  6.526936\\\\\n",
       "\t installer         &  3655 &  6.153199\\\\\n",
       "\t funder            &  3635 &  6.119529\\\\\n",
       "\t public\\_meeting    &  3334 &  5.612795\\\\\n",
       "\t ... & ... & ...\\\\\n",
       "\t source                & 0 & 0\\\\\n",
       "\t source\\_type           & 0 & 0\\\\\n",
       "\t source\\_class          & 0 & 0\\\\\n",
       "\t waterpoint\\_type       & 0 & 0\\\\\n",
       "\t waterpoint\\_type\\_group & 0 & 0\\\\\n",
       "\\end{tabular}\n"
      ],
      "text/markdown": [
       "\n",
       "A tibble: 40 × 3\n",
       "\n",
       "| variable &lt;chr&gt; | n_miss &lt;int&gt; | pct_miss &lt;dbl&gt; |\n",
       "|---|---|---|\n",
       "| scheme_name       | 28166 | 47.417508 |\n",
       "| scheme_management |  3877 |  6.526936 |\n",
       "| installer         |  3655 |  6.153199 |\n",
       "| funder            |  3635 |  6.119529 |\n",
       "| public_meeting    |  3334 |  5.612795 |\n",
       "| ... | ... | ... |\n",
       "| source                | 0 | 0 |\n",
       "| source_type           | 0 | 0 |\n",
       "| source_class          | 0 | 0 |\n",
       "| waterpoint_type       | 0 | 0 |\n",
       "| waterpoint_type_group | 0 | 0 |\n",
       "\n"
      ],
      "text/plain": [
       "    variable              n_miss pct_miss \n",
       "1   scheme_name           28166  47.417508\n",
       "2   scheme_management      3877   6.526936\n",
       "3   installer              3655   6.153199\n",
       "4   funder                 3635   6.119529\n",
       "5   public_meeting         3334   5.612795\n",
       "... ...                   ...    ...      \n",
       "36  source                0      0        \n",
       "37  source_type           0      0        \n",
       "38  source_class          0      0        \n",
       "39  waterpoint_type       0      0        \n",
       "40  waterpoint_type_group 0      0        "
      ]
     },
     "metadata": {},
     "output_type": "display_data"
    }
   ],
   "source": [
    "#read training values.csv dataset\n",
    "train_data<-read.csv(\"dataset/training values.csv\",na.strings=c(\"\",\"NA\"))\n",
    "train_labels<-read.csv(\"dataset/training labels.csv\")\n",
    "\n",
    "cat(\"Training data: \\n\\tDimensions [\",dim(train_data),\"]\"\n",
    "        ,\"\\n\\tDimensions without NA: [\",dim(na.omit(train_data)),\"]\"\n",
    "        ,\"\\n\\tColumns: see below\\n\")\n",
    "cat(\"Training labels: \\n\\tDimensions [\",dim(train_labels),\"]\"\n",
    "        ,\"\\n\\tDimensions without NA: [\",dim(na.omit(train_labels)),\"]\"\n",
    "        ,\"\\n\\tColumns: ID and status\")"
   ]
  },
  {
   "cell_type": "code",
   "execution_count": 85,
   "metadata": {
    "scrolled": true
   },
   "outputs": [
    {
     "data": {
      "text/html": [
       "<table class=\"dataframe\">\n",
       "<caption>A data.frame: 59400 × 2</caption>\n",
       "<thead>\n",
       "\t<tr><th scope=col>id</th><th scope=col>status_group</th></tr>\n",
       "\t<tr><th scope=col>&lt;int&gt;</th><th scope=col>&lt;chr&gt;</th></tr>\n",
       "</thead>\n",
       "<tbody>\n",
       "\t<tr><td>69572</td><td>functional    </td></tr>\n",
       "\t<tr><td> 8776</td><td>functional    </td></tr>\n",
       "\t<tr><td>34310</td><td>functional    </td></tr>\n",
       "\t<tr><td>67743</td><td>non functional</td></tr>\n",
       "\t<tr><td>19728</td><td>functional    </td></tr>\n",
       "\t<tr><td>...</td><td>...</td></tr>\n",
       "\t<tr><td>60739</td><td>functional</td></tr>\n",
       "\t<tr><td>27263</td><td>functional</td></tr>\n",
       "\t<tr><td>37057</td><td>functional</td></tr>\n",
       "\t<tr><td>31282</td><td>functional</td></tr>\n",
       "\t<tr><td>26348</td><td>functional</td></tr>\n",
       "</tbody>\n",
       "</table>\n"
      ],
      "text/latex": [
       "A data.frame: 59400 × 2\n",
       "\\begin{tabular}{ll}\n",
       " id & status\\_group\\\\\n",
       " <int> & <chr>\\\\\n",
       "\\hline\n",
       "\t 69572 & functional    \\\\\n",
       "\t  8776 & functional    \\\\\n",
       "\t 34310 & functional    \\\\\n",
       "\t 67743 & non functional\\\\\n",
       "\t 19728 & functional    \\\\\n",
       "\t ... & ...\\\\\n",
       "\t 60739 & functional\\\\\n",
       "\t 27263 & functional\\\\\n",
       "\t 37057 & functional\\\\\n",
       "\t 31282 & functional\\\\\n",
       "\t 26348 & functional\\\\\n",
       "\\end{tabular}\n"
      ],
      "text/markdown": [
       "\n",
       "A data.frame: 59400 × 2\n",
       "\n",
       "| id &lt;int&gt; | status_group &lt;chr&gt; |\n",
       "|---|---|\n",
       "| 69572 | functional     |\n",
       "|  8776 | functional     |\n",
       "| 34310 | functional     |\n",
       "| 67743 | non functional |\n",
       "| 19728 | functional     |\n",
       "| ... | ... |\n",
       "| 60739 | functional |\n",
       "| 27263 | functional |\n",
       "| 37057 | functional |\n",
       "| 31282 | functional |\n",
       "| 26348 | functional |\n",
       "\n"
      ],
      "text/plain": [
       "      id    status_group  \n",
       "1     69572 functional    \n",
       "2      8776 functional    \n",
       "3     34310 functional    \n",
       "4     67743 non functional\n",
       "5     19728 functional    \n",
       "...   ...   ...           \n",
       "59396 60739 functional    \n",
       "59397 27263 functional    \n",
       "59398 37057 functional    \n",
       "59399 31282 functional    \n",
       "59400 26348 functional    "
      ]
     },
     "metadata": {},
     "output_type": "display_data"
    }
   ],
   "source": [
    "# options(repr.matrix.max.cols=150, repr.matrix.max.rows=10)\n",
    "# train_data\n",
    "train_labels"
   ]
  },
  {
   "cell_type": "code",
   "execution_count": 86,
   "metadata": {
    "scrolled": true
   },
   "outputs": [
    {
     "data": {
      "text/html": [
       "<table class=\"dataframe\">\n",
       "<caption>A tibble: 40 × 3</caption>\n",
       "<thead>\n",
       "\t<tr><th scope=col>variable</th><th scope=col>n_miss</th><th scope=col>pct_miss</th></tr>\n",
       "\t<tr><th scope=col>&lt;chr&gt;</th><th scope=col>&lt;int&gt;</th><th scope=col>&lt;dbl&gt;</th></tr>\n",
       "</thead>\n",
       "<tbody>\n",
       "\t<tr><td>scheme_name      </td><td>28166</td><td>47.417508</td></tr>\n",
       "\t<tr><td>scheme_management</td><td> 3877</td><td> 6.526936</td></tr>\n",
       "\t<tr><td>installer        </td><td> 3655</td><td> 6.153199</td></tr>\n",
       "\t<tr><td>funder           </td><td> 3635</td><td> 6.119529</td></tr>\n",
       "\t<tr><td>public_meeting   </td><td> 3334</td><td> 5.612795</td></tr>\n",
       "\t<tr><td>...</td><td>...</td><td>...</td></tr>\n",
       "\t<tr><td>source               </td><td>0</td><td>0</td></tr>\n",
       "\t<tr><td>source_type          </td><td>0</td><td>0</td></tr>\n",
       "\t<tr><td>source_class         </td><td>0</td><td>0</td></tr>\n",
       "\t<tr><td>waterpoint_type      </td><td>0</td><td>0</td></tr>\n",
       "\t<tr><td>waterpoint_type_group</td><td>0</td><td>0</td></tr>\n",
       "</tbody>\n",
       "</table>\n"
      ],
      "text/latex": [
       "A tibble: 40 × 3\n",
       "\\begin{tabular}{lll}\n",
       " variable & n\\_miss & pct\\_miss\\\\\n",
       " <chr> & <int> & <dbl>\\\\\n",
       "\\hline\n",
       "\t scheme\\_name       & 28166 & 47.417508\\\\\n",
       "\t scheme\\_management &  3877 &  6.526936\\\\\n",
       "\t installer         &  3655 &  6.153199\\\\\n",
       "\t funder            &  3635 &  6.119529\\\\\n",
       "\t public\\_meeting    &  3334 &  5.612795\\\\\n",
       "\t ... & ... & ...\\\\\n",
       "\t source                & 0 & 0\\\\\n",
       "\t source\\_type           & 0 & 0\\\\\n",
       "\t source\\_class          & 0 & 0\\\\\n",
       "\t waterpoint\\_type       & 0 & 0\\\\\n",
       "\t waterpoint\\_type\\_group & 0 & 0\\\\\n",
       "\\end{tabular}\n"
      ],
      "text/markdown": [
       "\n",
       "A tibble: 40 × 3\n",
       "\n",
       "| variable &lt;chr&gt; | n_miss &lt;int&gt; | pct_miss &lt;dbl&gt; |\n",
       "|---|---|---|\n",
       "| scheme_name       | 28166 | 47.417508 |\n",
       "| scheme_management |  3877 |  6.526936 |\n",
       "| installer         |  3655 |  6.153199 |\n",
       "| funder            |  3635 |  6.119529 |\n",
       "| public_meeting    |  3334 |  5.612795 |\n",
       "| ... | ... | ... |\n",
       "| source                | 0 | 0 |\n",
       "| source_type           | 0 | 0 |\n",
       "| source_class          | 0 | 0 |\n",
       "| waterpoint_type       | 0 | 0 |\n",
       "| waterpoint_type_group | 0 | 0 |\n",
       "\n"
      ],
      "text/plain": [
       "    variable              n_miss pct_miss \n",
       "1   scheme_name           28166  47.417508\n",
       "2   scheme_management      3877   6.526936\n",
       "3   installer              3655   6.153199\n",
       "4   funder                 3635   6.119529\n",
       "5   public_meeting         3334   5.612795\n",
       "... ...                   ...    ...      \n",
       "36  source                0      0        \n",
       "37  source_type           0      0        \n",
       "38  source_class          0      0        \n",
       "39  waterpoint_type       0      0        \n",
       "40  waterpoint_type_group 0      0        "
      ]
     },
     "metadata": {},
     "output_type": "display_data"
    }
   ],
   "source": [
    "# display\n",
    "miss_var_summary(train_data)"
   ]
  },
  {
   "cell_type": "code",
   "execution_count": 87,
   "metadata": {},
   "outputs": [
    {
     "data": {
      "text/html": [
       "<style>\n",
       ".dl-inline {width: auto; margin:0; padding: 0}\n",
       ".dl-inline>dt, .dl-inline>dd {float: none; width: auto; display: inline-block}\n",
       ".dl-inline>dt::after {content: \":\\0020\"; padding-right: .5ex}\n",
       ".dl-inline>dt:not(:first-of-type) {padding-left: .5ex}\n",
       "</style><dl class=dl-inline><dt>id</dt><dd>59400</dd><dt>amount_tsh</dt><dd>98</dd><dt>date_recorded</dt><dd>356</dd><dt>funder</dt><dd>1898</dd><dt>gps_height</dt><dd>2428</dd><dt>installer</dt><dd>2146</dd><dt>longitude</dt><dd>55366</dd><dt>latitude</dt><dd>57517</dd><dt>wpt_name</dt><dd>37400</dd><dt>num_private</dt><dd>65</dd><dt>basin</dt><dd>9</dd><dt>subvillage</dt><dd>19288</dd><dt>region</dt><dd>21</dd><dt>region_code</dt><dd>27</dd><dt>district_code</dt><dd>20</dd><dt>lga</dt><dd>125</dd><dt>ward</dt><dd>2092</dd><dt>population</dt><dd>1049</dd><dt>public_meeting</dt><dd>3</dd><dt>recorded_by</dt><dd>1</dd><dt>scheme_management</dt><dd>13</dd><dt>scheme_name</dt><dd>2697</dd><dt>permit</dt><dd>3</dd><dt>construction_year</dt><dd>55</dd><dt>extraction_type</dt><dd>18</dd><dt>extraction_type_group</dt><dd>13</dd><dt>extraction_type_class</dt><dd>7</dd><dt>management</dt><dd>12</dd><dt>management_group</dt><dd>5</dd><dt>payment</dt><dd>7</dd><dt>payment_type</dt><dd>7</dd><dt>water_quality</dt><dd>8</dd><dt>quality_group</dt><dd>6</dd><dt>quantity</dt><dd>5</dd><dt>quantity_group</dt><dd>5</dd><dt>source</dt><dd>10</dd><dt>source_type</dt><dd>7</dd><dt>source_class</dt><dd>3</dd><dt>waterpoint_type</dt><dd>7</dd><dt>waterpoint_type_group</dt><dd>6</dd></dl>\n"
      ],
      "text/latex": [
       "\\begin{description*}\n",
       "\\item[id] 59400\n",
       "\\item[amount\\textbackslash{}\\_tsh] 98\n",
       "\\item[date\\textbackslash{}\\_recorded] 356\n",
       "\\item[funder] 1898\n",
       "\\item[gps\\textbackslash{}\\_height] 2428\n",
       "\\item[installer] 2146\n",
       "\\item[longitude] 55366\n",
       "\\item[latitude] 57517\n",
       "\\item[wpt\\textbackslash{}\\_name] 37400\n",
       "\\item[num\\textbackslash{}\\_private] 65\n",
       "\\item[basin] 9\n",
       "\\item[subvillage] 19288\n",
       "\\item[region] 21\n",
       "\\item[region\\textbackslash{}\\_code] 27\n",
       "\\item[district\\textbackslash{}\\_code] 20\n",
       "\\item[lga] 125\n",
       "\\item[ward] 2092\n",
       "\\item[population] 1049\n",
       "\\item[public\\textbackslash{}\\_meeting] 3\n",
       "\\item[recorded\\textbackslash{}\\_by] 1\n",
       "\\item[scheme\\textbackslash{}\\_management] 13\n",
       "\\item[scheme\\textbackslash{}\\_name] 2697\n",
       "\\item[permit] 3\n",
       "\\item[construction\\textbackslash{}\\_year] 55\n",
       "\\item[extraction\\textbackslash{}\\_type] 18\n",
       "\\item[extraction\\textbackslash{}\\_type\\textbackslash{}\\_group] 13\n",
       "\\item[extraction\\textbackslash{}\\_type\\textbackslash{}\\_class] 7\n",
       "\\item[management] 12\n",
       "\\item[management\\textbackslash{}\\_group] 5\n",
       "\\item[payment] 7\n",
       "\\item[payment\\textbackslash{}\\_type] 7\n",
       "\\item[water\\textbackslash{}\\_quality] 8\n",
       "\\item[quality\\textbackslash{}\\_group] 6\n",
       "\\item[quantity] 5\n",
       "\\item[quantity\\textbackslash{}\\_group] 5\n",
       "\\item[source] 10\n",
       "\\item[source\\textbackslash{}\\_type] 7\n",
       "\\item[source\\textbackslash{}\\_class] 3\n",
       "\\item[waterpoint\\textbackslash{}\\_type] 7\n",
       "\\item[waterpoint\\textbackslash{}\\_type\\textbackslash{}\\_group] 6\n",
       "\\end{description*}\n"
      ],
      "text/markdown": [
       "id\n",
       ":   59400amount_tsh\n",
       ":   98date_recorded\n",
       ":   356funder\n",
       ":   1898gps_height\n",
       ":   2428installer\n",
       ":   2146longitude\n",
       ":   55366latitude\n",
       ":   57517wpt_name\n",
       ":   37400num_private\n",
       ":   65basin\n",
       ":   9subvillage\n",
       ":   19288region\n",
       ":   21region_code\n",
       ":   27district_code\n",
       ":   20lga\n",
       ":   125ward\n",
       ":   2092population\n",
       ":   1049public_meeting\n",
       ":   3recorded_by\n",
       ":   1scheme_management\n",
       ":   13scheme_name\n",
       ":   2697permit\n",
       ":   3construction_year\n",
       ":   55extraction_type\n",
       ":   18extraction_type_group\n",
       ":   13extraction_type_class\n",
       ":   7management\n",
       ":   12management_group\n",
       ":   5payment\n",
       ":   7payment_type\n",
       ":   7water_quality\n",
       ":   8quality_group\n",
       ":   6quantity\n",
       ":   5quantity_group\n",
       ":   5source\n",
       ":   10source_type\n",
       ":   7source_class\n",
       ":   3waterpoint_type\n",
       ":   7waterpoint_type_group\n",
       ":   6\n",
       "\n"
      ],
      "text/plain": [
       "                   id            amount_tsh         date_recorded \n",
       "                59400                    98                   356 \n",
       "               funder            gps_height             installer \n",
       "                 1898                  2428                  2146 \n",
       "            longitude              latitude              wpt_name \n",
       "                55366                 57517                 37400 \n",
       "          num_private                 basin            subvillage \n",
       "                   65                     9                 19288 \n",
       "               region           region_code         district_code \n",
       "                   21                    27                    20 \n",
       "                  lga                  ward            population \n",
       "                  125                  2092                  1049 \n",
       "       public_meeting           recorded_by     scheme_management \n",
       "                    3                     1                    13 \n",
       "          scheme_name                permit     construction_year \n",
       "                 2697                     3                    55 \n",
       "      extraction_type extraction_type_group extraction_type_class \n",
       "                   18                    13                     7 \n",
       "           management      management_group               payment \n",
       "                   12                     5                     7 \n",
       "         payment_type         water_quality         quality_group \n",
       "                    7                     8                     6 \n",
       "             quantity        quantity_group                source \n",
       "                    5                     5                    10 \n",
       "          source_type          source_class       waterpoint_type \n",
       "                    7                     3                     7 \n",
       "waterpoint_type_group \n",
       "                    6 "
      ]
     },
     "metadata": {},
     "output_type": "display_data"
    }
   ],
   "source": [
    "# To get distinct counts in each column\n",
    "# https://stackoverflow.com/questions/22196078/count-unique-values-for-every-column\n",
    "train_distinct<-apply(train_data, 2, function(x) length(unique(x)))\n",
    "train_distinct"
   ]
  },
  {
   "cell_type": "code",
   "execution_count": null,
   "metadata": {},
   "outputs": [],
   "source": []
  },
  {
   "cell_type": "code",
   "execution_count": 88,
   "metadata": {
    "scrolled": true
   },
   "outputs": [
    {
     "data": {
      "text/html": [
       "TRUE"
      ],
      "text/latex": [
       "TRUE"
      ],
      "text/markdown": [
       "TRUE"
      ],
      "text/plain": [
       "[1] TRUE"
      ]
     },
     "metadata": {},
     "output_type": "display_data"
    },
    {
     "data": {
      "text/html": [
       "<style>\n",
       ".list-inline {list-style: none; margin:0; padding: 0}\n",
       ".list-inline>li {display: inline-block}\n",
       ".list-inline>li:not(:last-child)::after {content: \"\\00b7\"; padding: 0 .5ex}\n",
       "</style>\n",
       "<ol class=list-inline><li>59400</li><li>41</li></ol>\n"
      ],
      "text/latex": [
       "\\begin{enumerate*}\n",
       "\\item 59400\n",
       "\\item 41\n",
       "\\end{enumerate*}\n"
      ],
      "text/markdown": [
       "1. 59400\n",
       "2. 41\n",
       "\n",
       "\n"
      ],
      "text/plain": [
       "[1] 59400    41"
      ]
     },
     "metadata": {},
     "output_type": "display_data"
    },
    {
     "data": {
      "text/html": [
       "<table class=\"dataframe\">\n",
       "<caption>A data.frame: 59400 × 41</caption>\n",
       "<thead>\n",
       "\t<tr><th scope=col>id</th><th scope=col>amount_tsh</th><th scope=col>date_recorded</th><th scope=col>funder</th><th scope=col>gps_height</th><th scope=col>installer</th><th scope=col>longitude</th><th scope=col>latitude</th><th scope=col>wpt_name</th><th scope=col>num_private</th><th scope=col>basin</th><th scope=col>subvillage</th><th scope=col>region</th><th scope=col>region_code</th><th scope=col>district_code</th><th scope=col>lga</th><th scope=col>ward</th><th scope=col>population</th><th scope=col>public_meeting</th><th scope=col>recorded_by</th><th scope=col>scheme_management</th><th scope=col>scheme_name</th><th scope=col>permit</th><th scope=col>construction_year</th><th scope=col>extraction_type</th><th scope=col>extraction_type_group</th><th scope=col>extraction_type_class</th><th scope=col>management</th><th scope=col>management_group</th><th scope=col>payment</th><th scope=col>payment_type</th><th scope=col>water_quality</th><th scope=col>quality_group</th><th scope=col>quantity</th><th scope=col>quantity_group</th><th scope=col>source</th><th scope=col>source_type</th><th scope=col>source_class</th><th scope=col>waterpoint_type</th><th scope=col>waterpoint_type_group</th><th scope=col>status_group</th></tr>\n",
       "\t<tr><th scope=col>&lt;int&gt;</th><th scope=col>&lt;dbl&gt;</th><th scope=col>&lt;chr&gt;</th><th scope=col>&lt;chr&gt;</th><th scope=col>&lt;int&gt;</th><th scope=col>&lt;chr&gt;</th><th scope=col>&lt;dbl&gt;</th><th scope=col>&lt;dbl&gt;</th><th scope=col>&lt;chr&gt;</th><th scope=col>&lt;int&gt;</th><th scope=col>&lt;chr&gt;</th><th scope=col>&lt;chr&gt;</th><th scope=col>&lt;chr&gt;</th><th scope=col>&lt;int&gt;</th><th scope=col>&lt;int&gt;</th><th scope=col>&lt;chr&gt;</th><th scope=col>&lt;chr&gt;</th><th scope=col>&lt;int&gt;</th><th scope=col>&lt;chr&gt;</th><th scope=col>&lt;chr&gt;</th><th scope=col>&lt;chr&gt;</th><th scope=col>&lt;chr&gt;</th><th scope=col>&lt;chr&gt;</th><th scope=col>&lt;int&gt;</th><th scope=col>&lt;chr&gt;</th><th scope=col>&lt;chr&gt;</th><th scope=col>&lt;chr&gt;</th><th scope=col>&lt;chr&gt;</th><th scope=col>&lt;chr&gt;</th><th scope=col>&lt;chr&gt;</th><th scope=col>&lt;chr&gt;</th><th scope=col>&lt;chr&gt;</th><th scope=col>&lt;chr&gt;</th><th scope=col>&lt;chr&gt;</th><th scope=col>&lt;chr&gt;</th><th scope=col>&lt;chr&gt;</th><th scope=col>&lt;chr&gt;</th><th scope=col>&lt;chr&gt;</th><th scope=col>&lt;chr&gt;</th><th scope=col>&lt;chr&gt;</th><th scope=col>&lt;chr&gt;</th></tr>\n",
       "</thead>\n",
       "<tbody>\n",
       "\t<tr><td>69572</td><td>6000</td><td>2011-03-14</td><td>Roman       </td><td>1390</td><td>Roman       </td><td>34.93809</td><td> -9.856322</td><td>none                </td><td>0</td><td>Lake Nyasa             </td><td>Mnyusi B  </td><td>Iringa </td><td>11</td><td> 5</td><td>Ludewa   </td><td>Mundindi  </td><td>109</td><td>True</td><td>GeoData Consultants Ltd</td><td>VWC  </td><td>Roman                      </td><td>False</td><td>1999</td><td>gravity    </td><td>gravity    </td><td>gravity    </td><td>vwc  </td><td>user-group</td><td>pay annually  </td><td>annually  </td><td>soft</td><td>good</td><td>enough      </td><td>enough      </td><td>spring              </td><td>spring              </td><td>groundwater</td><td>communal standpipe         </td><td>communal standpipe</td><td>functional    </td></tr>\n",
       "\t<tr><td> 8776</td><td>   0</td><td>2013-03-06</td><td>Grumeti     </td><td>1399</td><td>GRUMETI     </td><td>34.69877</td><td> -2.147466</td><td>Zahanati            </td><td>0</td><td>Lake Victoria          </td><td>Nyamara   </td><td>Mara   </td><td>20</td><td> 2</td><td>Serengeti</td><td>Natta     </td><td>280</td><td>NA  </td><td>GeoData Consultants Ltd</td><td>Other</td><td>NA                         </td><td>True </td><td>2010</td><td>gravity    </td><td>gravity    </td><td>gravity    </td><td>wug  </td><td>user-group</td><td>never pay     </td><td>never pay </td><td>soft</td><td>good</td><td>insufficient</td><td>insufficient</td><td>rainwater harvesting</td><td>rainwater harvesting</td><td>surface    </td><td>communal standpipe         </td><td>communal standpipe</td><td>functional    </td></tr>\n",
       "\t<tr><td>34310</td><td>  25</td><td>2013-02-25</td><td>Lottery Club</td><td> 686</td><td>World vision</td><td>37.46066</td><td> -3.821329</td><td>Kwa Mahundi         </td><td>0</td><td>Pangani                </td><td>Majengo   </td><td>Manyara</td><td>21</td><td> 4</td><td>Simanjiro</td><td>Ngorika   </td><td>250</td><td>True</td><td>GeoData Consultants Ltd</td><td>VWC  </td><td>Nyumba ya mungu pipe scheme</td><td>True </td><td>2009</td><td>gravity    </td><td>gravity    </td><td>gravity    </td><td>vwc  </td><td>user-group</td><td>pay per bucket</td><td>per bucket</td><td>soft</td><td>good</td><td>enough      </td><td>enough      </td><td>dam                 </td><td>dam                 </td><td>surface    </td><td>communal standpipe multiple</td><td>communal standpipe</td><td>functional    </td></tr>\n",
       "\t<tr><td>67743</td><td>   0</td><td>2013-01-28</td><td>Unicef      </td><td> 263</td><td>UNICEF      </td><td>38.48616</td><td>-11.155298</td><td>Zahanati Ya Nanyumbu</td><td>0</td><td>Ruvuma / Southern Coast</td><td>Mahakamani</td><td>Mtwara </td><td>90</td><td>63</td><td>Nanyumbu </td><td>Nanyumbu  </td><td> 58</td><td>True</td><td>GeoData Consultants Ltd</td><td>VWC  </td><td>NA                         </td><td>True </td><td>1986</td><td>submersible</td><td>submersible</td><td>submersible</td><td>vwc  </td><td>user-group</td><td>never pay     </td><td>never pay </td><td>soft</td><td>good</td><td>dry         </td><td>dry         </td><td>machine dbh         </td><td>borehole            </td><td>groundwater</td><td>communal standpipe multiple</td><td>communal standpipe</td><td>non functional</td></tr>\n",
       "\t<tr><td>19728</td><td>   0</td><td>2011-07-13</td><td>Action In A </td><td>   0</td><td>Artisan     </td><td>31.13085</td><td> -1.825359</td><td>Shuleni             </td><td>0</td><td>Lake Victoria          </td><td>Kyanyamisa</td><td>Kagera </td><td>18</td><td> 1</td><td>Karagwe  </td><td>Nyakasimbi</td><td>  0</td><td>True</td><td>GeoData Consultants Ltd</td><td>NA   </td><td>NA                         </td><td>True </td><td>   0</td><td>gravity    </td><td>gravity    </td><td>gravity    </td><td>other</td><td>other     </td><td>never pay     </td><td>never pay </td><td>soft</td><td>good</td><td>seasonal    </td><td>seasonal    </td><td>rainwater harvesting</td><td>rainwater harvesting</td><td>surface    </td><td>communal standpipe         </td><td>communal standpipe</td><td>functional    </td></tr>\n",
       "\t<tr><td>...</td><td>...</td><td>...</td><td>...</td><td>...</td><td>...</td><td>...</td><td>...</td><td>...</td><td>...</td><td>...</td><td>...</td><td>...</td><td>...</td><td>...</td><td>...</td><td>...</td><td>...</td><td>...</td><td>...</td><td>...</td><td>...</td><td>...</td><td>...</td><td>...</td><td>...</td><td>...</td><td>...</td><td>...</td><td>...</td><td>...</td><td>...</td><td>...</td><td>...</td><td>...</td><td>...</td><td>...</td><td>...</td><td>...</td><td>...</td><td>...</td></tr>\n",
       "\t<tr><td>60739</td><td>  10</td><td>2013-05-03</td><td>Germany Republi</td><td>1210</td><td>CES  </td><td>37.16981</td><td>-3.253847</td><td>Area Three Namba 27</td><td>0</td><td>Pangani    </td><td>Kiduruni    </td><td>Kilimanjaro</td><td> 3</td><td>5</td><td>Hai           </td><td>Masama Magharibi</td><td>125</td><td>True</td><td>GeoData Consultants Ltd</td><td>Water Board</td><td>Losaa Kia water supply     </td><td>True </td><td>1999</td><td>gravity    </td><td>gravity    </td><td>gravity </td><td>water board</td><td>user-group</td><td>pay per bucket       </td><td>per bucket</td><td>soft    </td><td>good    </td><td>enough      </td><td>enough      </td><td>spring      </td><td>spring      </td><td>groundwater</td><td>communal standpipe</td><td>communal standpipe</td><td>functional</td></tr>\n",
       "\t<tr><td>27263</td><td>4700</td><td>2011-05-07</td><td>Cefa-njombe    </td><td>1212</td><td>Cefa </td><td>35.24999</td><td>-9.070629</td><td>Kwa Yahona Kuvala  </td><td>0</td><td>Rufiji     </td><td>Igumbilo    </td><td>Iringa     </td><td>11</td><td>4</td><td>Njombe        </td><td>Ikondo          </td><td> 56</td><td>True</td><td>GeoData Consultants Ltd</td><td>VWC        </td><td>Ikondo electrical water sch</td><td>True </td><td>1996</td><td>gravity    </td><td>gravity    </td><td>gravity </td><td>vwc        </td><td>user-group</td><td>pay annually         </td><td>annually  </td><td>soft    </td><td>good    </td><td>enough      </td><td>enough      </td><td>river       </td><td>river/lake  </td><td>surface    </td><td>communal standpipe</td><td>communal standpipe</td><td>functional</td></tr>\n",
       "\t<tr><td>37057</td><td>   0</td><td>2011-04-11</td><td>NA             </td><td>   0</td><td>NA   </td><td>34.01709</td><td>-8.750434</td><td>Mashine            </td><td>0</td><td>Rufiji     </td><td>Madungulu   </td><td>Mbeya      </td><td>12</td><td>7</td><td>Mbarali       </td><td>Chimala         </td><td>  0</td><td>True</td><td>GeoData Consultants Ltd</td><td>VWC        </td><td>NA                         </td><td>False</td><td>   0</td><td>swn 80     </td><td>swn 80     </td><td>handpump</td><td>vwc        </td><td>user-group</td><td>pay monthly          </td><td>monthly   </td><td>fluoride</td><td>fluoride</td><td>enough      </td><td>enough      </td><td>machine dbh </td><td>borehole    </td><td>groundwater</td><td>hand pump         </td><td>hand pump         </td><td>functional</td></tr>\n",
       "\t<tr><td>31282</td><td>   0</td><td>2011-03-08</td><td>Malec          </td><td>   0</td><td>Musa </td><td>35.86132</td><td>-6.378573</td><td>Mshoro             </td><td>0</td><td>Rufiji     </td><td>Mwinyi      </td><td>Dodoma     </td><td> 1</td><td>4</td><td>Chamwino      </td><td>Mvumi Makulu    </td><td>  0</td><td>True</td><td>GeoData Consultants Ltd</td><td>VWC        </td><td>NA                         </td><td>True </td><td>   0</td><td>nira/tanira</td><td>nira/tanira</td><td>handpump</td><td>vwc        </td><td>user-group</td><td>never pay            </td><td>never pay </td><td>soft    </td><td>good    </td><td>insufficient</td><td>insufficient</td><td>shallow well</td><td>shallow well</td><td>groundwater</td><td>hand pump         </td><td>hand pump         </td><td>functional</td></tr>\n",
       "\t<tr><td>26348</td><td>   0</td><td>2011-03-23</td><td>World Bank     </td><td> 191</td><td>World</td><td>38.10405</td><td>-6.747464</td><td>Kwa Mzee Lugawa    </td><td>0</td><td>Wami / Ruvu</td><td>Kikatanyemba</td><td>Morogoro   </td><td> 5</td><td>2</td><td>Morogoro Rural</td><td>Ngerengere      </td><td>150</td><td>True</td><td>GeoData Consultants Ltd</td><td>VWC        </td><td>NA                         </td><td>True </td><td>2002</td><td>nira/tanira</td><td>nira/tanira</td><td>handpump</td><td>vwc        </td><td>user-group</td><td>pay when scheme fails</td><td>on failure</td><td>salty   </td><td>salty   </td><td>enough      </td><td>enough      </td><td>shallow well</td><td>shallow well</td><td>groundwater</td><td>hand pump         </td><td>hand pump         </td><td>functional</td></tr>\n",
       "</tbody>\n",
       "</table>\n"
      ],
      "text/latex": [
       "A data.frame: 59400 × 41\n",
       "\\begin{tabular}{lllllllllllllllllllllllllllllllllllllllll}\n",
       " id & amount\\_tsh & date\\_recorded & funder & gps\\_height & installer & longitude & latitude & wpt\\_name & num\\_private & basin & subvillage & region & region\\_code & district\\_code & lga & ward & population & public\\_meeting & recorded\\_by & scheme\\_management & scheme\\_name & permit & construction\\_year & extraction\\_type & extraction\\_type\\_group & extraction\\_type\\_class & management & management\\_group & payment & payment\\_type & water\\_quality & quality\\_group & quantity & quantity\\_group & source & source\\_type & source\\_class & waterpoint\\_type & waterpoint\\_type\\_group & status\\_group\\\\\n",
       " <int> & <dbl> & <chr> & <chr> & <int> & <chr> & <dbl> & <dbl> & <chr> & <int> & <chr> & <chr> & <chr> & <int> & <int> & <chr> & <chr> & <int> & <chr> & <chr> & <chr> & <chr> & <chr> & <int> & <chr> & <chr> & <chr> & <chr> & <chr> & <chr> & <chr> & <chr> & <chr> & <chr> & <chr> & <chr> & <chr> & <chr> & <chr> & <chr> & <chr>\\\\\n",
       "\\hline\n",
       "\t 69572 & 6000 & 2011-03-14 & Roman        & 1390 & Roman        & 34.93809 &  -9.856322 & none                 & 0 & Lake Nyasa              & Mnyusi B   & Iringa  & 11 &  5 & Ludewa    & Mundindi   & 109 & True & GeoData Consultants Ltd & VWC   & Roman                       & False & 1999 & gravity     & gravity     & gravity     & vwc   & user-group & pay annually   & annually   & soft & good & enough       & enough       & spring               & spring               & groundwater & communal standpipe          & communal standpipe & functional    \\\\\n",
       "\t  8776 &    0 & 2013-03-06 & Grumeti      & 1399 & GRUMETI      & 34.69877 &  -2.147466 & Zahanati             & 0 & Lake Victoria           & Nyamara    & Mara    & 20 &  2 & Serengeti & Natta      & 280 & NA   & GeoData Consultants Ltd & Other & NA                          & True  & 2010 & gravity     & gravity     & gravity     & wug   & user-group & never pay      & never pay  & soft & good & insufficient & insufficient & rainwater harvesting & rainwater harvesting & surface     & communal standpipe          & communal standpipe & functional    \\\\\n",
       "\t 34310 &   25 & 2013-02-25 & Lottery Club &  686 & World vision & 37.46066 &  -3.821329 & Kwa Mahundi          & 0 & Pangani                 & Majengo    & Manyara & 21 &  4 & Simanjiro & Ngorika    & 250 & True & GeoData Consultants Ltd & VWC   & Nyumba ya mungu pipe scheme & True  & 2009 & gravity     & gravity     & gravity     & vwc   & user-group & pay per bucket & per bucket & soft & good & enough       & enough       & dam                  & dam                  & surface     & communal standpipe multiple & communal standpipe & functional    \\\\\n",
       "\t 67743 &    0 & 2013-01-28 & Unicef       &  263 & UNICEF       & 38.48616 & -11.155298 & Zahanati Ya Nanyumbu & 0 & Ruvuma / Southern Coast & Mahakamani & Mtwara  & 90 & 63 & Nanyumbu  & Nanyumbu   &  58 & True & GeoData Consultants Ltd & VWC   & NA                          & True  & 1986 & submersible & submersible & submersible & vwc   & user-group & never pay      & never pay  & soft & good & dry          & dry          & machine dbh          & borehole             & groundwater & communal standpipe multiple & communal standpipe & non functional\\\\\n",
       "\t 19728 &    0 & 2011-07-13 & Action In A  &    0 & Artisan      & 31.13085 &  -1.825359 & Shuleni              & 0 & Lake Victoria           & Kyanyamisa & Kagera  & 18 &  1 & Karagwe   & Nyakasimbi &   0 & True & GeoData Consultants Ltd & NA    & NA                          & True  &    0 & gravity     & gravity     & gravity     & other & other      & never pay      & never pay  & soft & good & seasonal     & seasonal     & rainwater harvesting & rainwater harvesting & surface     & communal standpipe          & communal standpipe & functional    \\\\\n",
       "\t ... & ... & ... & ... & ... & ... & ... & ... & ... & ... & ... & ... & ... & ... & ... & ... & ... & ... & ... & ... & ... & ... & ... & ... & ... & ... & ... & ... & ... & ... & ... & ... & ... & ... & ... & ... & ... & ... & ... & ... & ...\\\\\n",
       "\t 60739 &   10 & 2013-05-03 & Germany Republi & 1210 & CES   & 37.16981 & -3.253847 & Area Three Namba 27 & 0 & Pangani     & Kiduruni     & Kilimanjaro &  3 & 5 & Hai            & Masama Magharibi & 125 & True & GeoData Consultants Ltd & Water Board & Losaa Kia water supply      & True  & 1999 & gravity     & gravity     & gravity  & water board & user-group & pay per bucket        & per bucket & soft     & good     & enough       & enough       & spring       & spring       & groundwater & communal standpipe & communal standpipe & functional\\\\\n",
       "\t 27263 & 4700 & 2011-05-07 & Cefa-njombe     & 1212 & Cefa  & 35.24999 & -9.070629 & Kwa Yahona Kuvala   & 0 & Rufiji      & Igumbilo     & Iringa      & 11 & 4 & Njombe         & Ikondo           &  56 & True & GeoData Consultants Ltd & VWC         & Ikondo electrical water sch & True  & 1996 & gravity     & gravity     & gravity  & vwc         & user-group & pay annually          & annually   & soft     & good     & enough       & enough       & river        & river/lake   & surface     & communal standpipe & communal standpipe & functional\\\\\n",
       "\t 37057 &    0 & 2011-04-11 & NA              &    0 & NA    & 34.01709 & -8.750434 & Mashine             & 0 & Rufiji      & Madungulu    & Mbeya       & 12 & 7 & Mbarali        & Chimala          &   0 & True & GeoData Consultants Ltd & VWC         & NA                          & False &    0 & swn 80      & swn 80      & handpump & vwc         & user-group & pay monthly           & monthly    & fluoride & fluoride & enough       & enough       & machine dbh  & borehole     & groundwater & hand pump          & hand pump          & functional\\\\\n",
       "\t 31282 &    0 & 2011-03-08 & Malec           &    0 & Musa  & 35.86132 & -6.378573 & Mshoro              & 0 & Rufiji      & Mwinyi       & Dodoma      &  1 & 4 & Chamwino       & Mvumi Makulu     &   0 & True & GeoData Consultants Ltd & VWC         & NA                          & True  &    0 & nira/tanira & nira/tanira & handpump & vwc         & user-group & never pay             & never pay  & soft     & good     & insufficient & insufficient & shallow well & shallow well & groundwater & hand pump          & hand pump          & functional\\\\\n",
       "\t 26348 &    0 & 2011-03-23 & World Bank      &  191 & World & 38.10405 & -6.747464 & Kwa Mzee Lugawa     & 0 & Wami / Ruvu & Kikatanyemba & Morogoro    &  5 & 2 & Morogoro Rural & Ngerengere       & 150 & True & GeoData Consultants Ltd & VWC         & NA                          & True  & 2002 & nira/tanira & nira/tanira & handpump & vwc         & user-group & pay when scheme fails & on failure & salty    & salty    & enough       & enough       & shallow well & shallow well & groundwater & hand pump          & hand pump          & functional\\\\\n",
       "\\end{tabular}\n"
      ],
      "text/markdown": [
       "\n",
       "A data.frame: 59400 × 41\n",
       "\n",
       "| id &lt;int&gt; | amount_tsh &lt;dbl&gt; | date_recorded &lt;chr&gt; | funder &lt;chr&gt; | gps_height &lt;int&gt; | installer &lt;chr&gt; | longitude &lt;dbl&gt; | latitude &lt;dbl&gt; | wpt_name &lt;chr&gt; | num_private &lt;int&gt; | basin &lt;chr&gt; | subvillage &lt;chr&gt; | region &lt;chr&gt; | region_code &lt;int&gt; | district_code &lt;int&gt; | lga &lt;chr&gt; | ward &lt;chr&gt; | population &lt;int&gt; | public_meeting &lt;chr&gt; | recorded_by &lt;chr&gt; | scheme_management &lt;chr&gt; | scheme_name &lt;chr&gt; | permit &lt;chr&gt; | construction_year &lt;int&gt; | extraction_type &lt;chr&gt; | extraction_type_group &lt;chr&gt; | extraction_type_class &lt;chr&gt; | management &lt;chr&gt; | management_group &lt;chr&gt; | payment &lt;chr&gt; | payment_type &lt;chr&gt; | water_quality &lt;chr&gt; | quality_group &lt;chr&gt; | quantity &lt;chr&gt; | quantity_group &lt;chr&gt; | source &lt;chr&gt; | source_type &lt;chr&gt; | source_class &lt;chr&gt; | waterpoint_type &lt;chr&gt; | waterpoint_type_group &lt;chr&gt; | status_group &lt;chr&gt; |\n",
       "|---|---|---|---|---|---|---|---|---|---|---|---|---|---|---|---|---|---|---|---|---|---|---|---|---|---|---|---|---|---|---|---|---|---|---|---|---|---|---|---|---|\n",
       "| 69572 | 6000 | 2011-03-14 | Roman        | 1390 | Roman        | 34.93809 |  -9.856322 | none                 | 0 | Lake Nyasa              | Mnyusi B   | Iringa  | 11 |  5 | Ludewa    | Mundindi   | 109 | True | GeoData Consultants Ltd | VWC   | Roman                       | False | 1999 | gravity     | gravity     | gravity     | vwc   | user-group | pay annually   | annually   | soft | good | enough       | enough       | spring               | spring               | groundwater | communal standpipe          | communal standpipe | functional     |\n",
       "|  8776 |    0 | 2013-03-06 | Grumeti      | 1399 | GRUMETI      | 34.69877 |  -2.147466 | Zahanati             | 0 | Lake Victoria           | Nyamara    | Mara    | 20 |  2 | Serengeti | Natta      | 280 | NA   | GeoData Consultants Ltd | Other | NA                          | True  | 2010 | gravity     | gravity     | gravity     | wug   | user-group | never pay      | never pay  | soft | good | insufficient | insufficient | rainwater harvesting | rainwater harvesting | surface     | communal standpipe          | communal standpipe | functional     |\n",
       "| 34310 |   25 | 2013-02-25 | Lottery Club |  686 | World vision | 37.46066 |  -3.821329 | Kwa Mahundi          | 0 | Pangani                 | Majengo    | Manyara | 21 |  4 | Simanjiro | Ngorika    | 250 | True | GeoData Consultants Ltd | VWC   | Nyumba ya mungu pipe scheme | True  | 2009 | gravity     | gravity     | gravity     | vwc   | user-group | pay per bucket | per bucket | soft | good | enough       | enough       | dam                  | dam                  | surface     | communal standpipe multiple | communal standpipe | functional     |\n",
       "| 67743 |    0 | 2013-01-28 | Unicef       |  263 | UNICEF       | 38.48616 | -11.155298 | Zahanati Ya Nanyumbu | 0 | Ruvuma / Southern Coast | Mahakamani | Mtwara  | 90 | 63 | Nanyumbu  | Nanyumbu   |  58 | True | GeoData Consultants Ltd | VWC   | NA                          | True  | 1986 | submersible | submersible | submersible | vwc   | user-group | never pay      | never pay  | soft | good | dry          | dry          | machine dbh          | borehole             | groundwater | communal standpipe multiple | communal standpipe | non functional |\n",
       "| 19728 |    0 | 2011-07-13 | Action In A  |    0 | Artisan      | 31.13085 |  -1.825359 | Shuleni              | 0 | Lake Victoria           | Kyanyamisa | Kagera  | 18 |  1 | Karagwe   | Nyakasimbi |   0 | True | GeoData Consultants Ltd | NA    | NA                          | True  |    0 | gravity     | gravity     | gravity     | other | other      | never pay      | never pay  | soft | good | seasonal     | seasonal     | rainwater harvesting | rainwater harvesting | surface     | communal standpipe          | communal standpipe | functional     |\n",
       "| ... | ... | ... | ... | ... | ... | ... | ... | ... | ... | ... | ... | ... | ... | ... | ... | ... | ... | ... | ... | ... | ... | ... | ... | ... | ... | ... | ... | ... | ... | ... | ... | ... | ... | ... | ... | ... | ... | ... | ... | ... |\n",
       "| 60739 |   10 | 2013-05-03 | Germany Republi | 1210 | CES   | 37.16981 | -3.253847 | Area Three Namba 27 | 0 | Pangani     | Kiduruni     | Kilimanjaro |  3 | 5 | Hai            | Masama Magharibi | 125 | True | GeoData Consultants Ltd | Water Board | Losaa Kia water supply      | True  | 1999 | gravity     | gravity     | gravity  | water board | user-group | pay per bucket        | per bucket | soft     | good     | enough       | enough       | spring       | spring       | groundwater | communal standpipe | communal standpipe | functional |\n",
       "| 27263 | 4700 | 2011-05-07 | Cefa-njombe     | 1212 | Cefa  | 35.24999 | -9.070629 | Kwa Yahona Kuvala   | 0 | Rufiji      | Igumbilo     | Iringa      | 11 | 4 | Njombe         | Ikondo           |  56 | True | GeoData Consultants Ltd | VWC         | Ikondo electrical water sch | True  | 1996 | gravity     | gravity     | gravity  | vwc         | user-group | pay annually          | annually   | soft     | good     | enough       | enough       | river        | river/lake   | surface     | communal standpipe | communal standpipe | functional |\n",
       "| 37057 |    0 | 2011-04-11 | NA              |    0 | NA    | 34.01709 | -8.750434 | Mashine             | 0 | Rufiji      | Madungulu    | Mbeya       | 12 | 7 | Mbarali        | Chimala          |   0 | True | GeoData Consultants Ltd | VWC         | NA                          | False |    0 | swn 80      | swn 80      | handpump | vwc         | user-group | pay monthly           | monthly    | fluoride | fluoride | enough       | enough       | machine dbh  | borehole     | groundwater | hand pump          | hand pump          | functional |\n",
       "| 31282 |    0 | 2011-03-08 | Malec           |    0 | Musa  | 35.86132 | -6.378573 | Mshoro              | 0 | Rufiji      | Mwinyi       | Dodoma      |  1 | 4 | Chamwino       | Mvumi Makulu     |   0 | True | GeoData Consultants Ltd | VWC         | NA                          | True  |    0 | nira/tanira | nira/tanira | handpump | vwc         | user-group | never pay             | never pay  | soft     | good     | insufficient | insufficient | shallow well | shallow well | groundwater | hand pump          | hand pump          | functional |\n",
       "| 26348 |    0 | 2011-03-23 | World Bank      |  191 | World | 38.10405 | -6.747464 | Kwa Mzee Lugawa     | 0 | Wami / Ruvu | Kikatanyemba | Morogoro    |  5 | 2 | Morogoro Rural | Ngerengere       | 150 | True | GeoData Consultants Ltd | VWC         | NA                          | True  | 2002 | nira/tanira | nira/tanira | handpump | vwc         | user-group | pay when scheme fails | on failure | salty    | salty    | enough       | enough       | shallow well | shallow well | groundwater | hand pump          | hand pump          | functional |\n",
       "\n"
      ],
      "text/plain": [
       "      id    amount_tsh date_recorded funder          gps_height installer   \n",
       "1     69572 6000       2011-03-14    Roman           1390       Roman       \n",
       "2      8776    0       2013-03-06    Grumeti         1399       GRUMETI     \n",
       "3     34310   25       2013-02-25    Lottery Club     686       World vision\n",
       "4     67743    0       2013-01-28    Unicef           263       UNICEF      \n",
       "5     19728    0       2011-07-13    Action In A        0       Artisan     \n",
       "...   ...   ...        ...           ...             ...        ...         \n",
       "59396 60739   10       2013-05-03    Germany Republi 1210       CES         \n",
       "59397 27263 4700       2011-05-07    Cefa-njombe     1212       Cefa        \n",
       "59398 37057    0       2011-04-11    NA                 0       NA          \n",
       "59399 31282    0       2011-03-08    Malec              0       Musa        \n",
       "59400 26348    0       2011-03-23    World Bank       191       World       \n",
       "      longitude latitude   wpt_name             num_private\n",
       "1     34.93809   -9.856322 none                 0          \n",
       "2     34.69877   -2.147466 Zahanati             0          \n",
       "3     37.46066   -3.821329 Kwa Mahundi          0          \n",
       "4     38.48616  -11.155298 Zahanati Ya Nanyumbu 0          \n",
       "5     31.13085   -1.825359 Shuleni              0          \n",
       "...   ...       ...        ...                  ...        \n",
       "59396 37.16981  -3.253847  Area Three Namba 27  0          \n",
       "59397 35.24999  -9.070629  Kwa Yahona Kuvala    0          \n",
       "59398 34.01709  -8.750434  Mashine              0          \n",
       "59399 35.86132  -6.378573  Mshoro               0          \n",
       "59400 38.10405  -6.747464  Kwa Mzee Lugawa      0          \n",
       "      basin                   subvillage   region      region_code\n",
       "1     Lake Nyasa              Mnyusi B     Iringa      11         \n",
       "2     Lake Victoria           Nyamara      Mara        20         \n",
       "3     Pangani                 Majengo      Manyara     21         \n",
       "4     Ruvuma / Southern Coast Mahakamani   Mtwara      90         \n",
       "5     Lake Victoria           Kyanyamisa   Kagera      18         \n",
       "...   ...                     ...          ...         ...        \n",
       "59396 Pangani                 Kiduruni     Kilimanjaro  3         \n",
       "59397 Rufiji                  Igumbilo     Iringa      11         \n",
       "59398 Rufiji                  Madungulu    Mbeya       12         \n",
       "59399 Rufiji                  Mwinyi       Dodoma       1         \n",
       "59400 Wami / Ruvu             Kikatanyemba Morogoro     5         \n",
       "      district_code lga            ward             population public_meeting\n",
       "1      5            Ludewa         Mundindi         109        True          \n",
       "2      2            Serengeti      Natta            280        NA            \n",
       "3      4            Simanjiro      Ngorika          250        True          \n",
       "4     63            Nanyumbu       Nanyumbu          58        True          \n",
       "5      1            Karagwe        Nyakasimbi         0        True          \n",
       "...   ...           ...            ...              ...        ...           \n",
       "59396 5             Hai            Masama Magharibi 125        True          \n",
       "59397 4             Njombe         Ikondo            56        True          \n",
       "59398 7             Mbarali        Chimala            0        True          \n",
       "59399 4             Chamwino       Mvumi Makulu       0        True          \n",
       "59400 2             Morogoro Rural Ngerengere       150        True          \n",
       "      recorded_by             scheme_management scheme_name                \n",
       "1     GeoData Consultants Ltd VWC               Roman                      \n",
       "2     GeoData Consultants Ltd Other             NA                         \n",
       "3     GeoData Consultants Ltd VWC               Nyumba ya mungu pipe scheme\n",
       "4     GeoData Consultants Ltd VWC               NA                         \n",
       "5     GeoData Consultants Ltd NA                NA                         \n",
       "...   ...                     ...               ...                        \n",
       "59396 GeoData Consultants Ltd Water Board       Losaa Kia water supply     \n",
       "59397 GeoData Consultants Ltd VWC               Ikondo electrical water sch\n",
       "59398 GeoData Consultants Ltd VWC               NA                         \n",
       "59399 GeoData Consultants Ltd VWC               NA                         \n",
       "59400 GeoData Consultants Ltd VWC               NA                         \n",
       "      permit construction_year extraction_type extraction_type_group\n",
       "1     False  1999              gravity         gravity              \n",
       "2     True   2010              gravity         gravity              \n",
       "3     True   2009              gravity         gravity              \n",
       "4     True   1986              submersible     submersible          \n",
       "5     True      0              gravity         gravity              \n",
       "...   ...    ...               ...             ...                  \n",
       "59396 True   1999              gravity         gravity              \n",
       "59397 True   1996              gravity         gravity              \n",
       "59398 False     0              swn 80          swn 80               \n",
       "59399 True      0              nira/tanira     nira/tanira          \n",
       "59400 True   2002              nira/tanira     nira/tanira          \n",
       "      extraction_type_class management  management_group payment              \n",
       "1     gravity               vwc         user-group       pay annually         \n",
       "2     gravity               wug         user-group       never pay            \n",
       "3     gravity               vwc         user-group       pay per bucket       \n",
       "4     submersible           vwc         user-group       never pay            \n",
       "5     gravity               other       other            never pay            \n",
       "...   ...                   ...         ...              ...                  \n",
       "59396 gravity               water board user-group       pay per bucket       \n",
       "59397 gravity               vwc         user-group       pay annually         \n",
       "59398 handpump              vwc         user-group       pay monthly          \n",
       "59399 handpump              vwc         user-group       never pay            \n",
       "59400 handpump              vwc         user-group       pay when scheme fails\n",
       "      payment_type water_quality quality_group quantity     quantity_group\n",
       "1     annually     soft          good          enough       enough        \n",
       "2     never pay    soft          good          insufficient insufficient  \n",
       "3     per bucket   soft          good          enough       enough        \n",
       "4     never pay    soft          good          dry          dry           \n",
       "5     never pay    soft          good          seasonal     seasonal      \n",
       "...   ...          ...           ...           ...          ...           \n",
       "59396 per bucket   soft          good          enough       enough        \n",
       "59397 annually     soft          good          enough       enough        \n",
       "59398 monthly      fluoride      fluoride      enough       enough        \n",
       "59399 never pay    soft          good          insufficient insufficient  \n",
       "59400 on failure   salty         salty         enough       enough        \n",
       "      source               source_type          source_class\n",
       "1     spring               spring               groundwater \n",
       "2     rainwater harvesting rainwater harvesting surface     \n",
       "3     dam                  dam                  surface     \n",
       "4     machine dbh          borehole             groundwater \n",
       "5     rainwater harvesting rainwater harvesting surface     \n",
       "...   ...                  ...                  ...         \n",
       "59396 spring               spring               groundwater \n",
       "59397 river                river/lake           surface     \n",
       "59398 machine dbh          borehole             groundwater \n",
       "59399 shallow well         shallow well         groundwater \n",
       "59400 shallow well         shallow well         groundwater \n",
       "      waterpoint_type             waterpoint_type_group status_group  \n",
       "1     communal standpipe          communal standpipe    functional    \n",
       "2     communal standpipe          communal standpipe    functional    \n",
       "3     communal standpipe multiple communal standpipe    functional    \n",
       "4     communal standpipe multiple communal standpipe    non functional\n",
       "5     communal standpipe          communal standpipe    functional    \n",
       "...   ...                         ...                   ...           \n",
       "59396 communal standpipe          communal standpipe    functional    \n",
       "59397 communal standpipe          communal standpipe    functional    \n",
       "59398 hand pump                   hand pump             functional    \n",
       "59399 hand pump                   hand pump             functional    \n",
       "59400 hand pump                   hand pump             functional    "
      ]
     },
     "metadata": {},
     "output_type": "display_data"
    }
   ],
   "source": [
    "# Check whether the column id of both dataset and labels are in the same order after merge\n",
    "identical(train_data[['id']],train_labels[['id']])\n",
    "\n",
    "# Dropping the unnecessary second id column before merging the labels and data\n",
    "train_labels$id <- NULL\n",
    "\n",
    "train_dataset = cbind(train_data, train_labels)\n",
    "\n",
    "dim(train_dataset)\n",
    "train_dataset"
   ]
  },
  {
   "cell_type": "markdown",
   "metadata": {},
   "source": [
    "Random forests need the target variable to be categorical:"
   ]
  },
  {
   "cell_type": "code",
   "execution_count": 89,
   "metadata": {},
   "outputs": [],
   "source": [
    "train_dataset$status_group <- as.factor(train_dataset$status_group)"
   ]
  },
  {
   "cell_type": "code",
   "execution_count": 92,
   "metadata": {},
   "outputs": [
    {
     "data": {
      "text/html": [
       "<style>\n",
       ".list-inline {list-style: none; margin:0; padding: 0}\n",
       ".list-inline>li {display: inline-block}\n",
       ".list-inline>li:not(:last-child)::after {content: \"\\00b7\"; padding: 0 .5ex}\n",
       "</style>\n",
       "<ol class=list-inline><li>27813</li><li>41</li></ol>\n"
      ],
      "text/latex": [
       "\\begin{enumerate*}\n",
       "\\item 27813\n",
       "\\item 41\n",
       "\\end{enumerate*}\n"
      ],
      "text/markdown": [
       "1. 27813\n",
       "2. 41\n",
       "\n",
       "\n"
      ],
      "text/plain": [
       "[1] 27813    41"
      ]
     },
     "metadata": {},
     "output_type": "display_data"
    }
   ],
   "source": [
    "train_dataset <- na.omit(train_dataset)\n",
    "dim(train_dataset)"
   ]
  },
  {
   "cell_type": "markdown",
   "metadata": {},
   "source": [
    "Splitting the dataset into train and validation subsets"
   ]
  },
  {
   "cell_type": "code",
   "execution_count": 93,
   "metadata": {},
   "outputs": [
    {
     "data": {
      "text/html": [
       "<style>\n",
       ".list-inline {list-style: none; margin:0; padding: 0}\n",
       ".list-inline>li {display: inline-block}\n",
       ".list-inline>li:not(:last-child)::after {content: \"\\00b7\"; padding: 0 .5ex}\n",
       "</style>\n",
       "<ol class=list-inline><li>13906</li><li>40</li></ol>\n"
      ],
      "text/latex": [
       "\\begin{enumerate*}\n",
       "\\item 13906\n",
       "\\item 40\n",
       "\\end{enumerate*}\n"
      ],
      "text/markdown": [
       "1. 13906\n",
       "2. 40\n",
       "\n",
       "\n"
      ],
      "text/plain": [
       "[1] 13906    40"
      ]
     },
     "metadata": {},
     "output_type": "display_data"
    },
    {
     "data": {
      "text/html": [
       "<style>\n",
       ".list-inline {list-style: none; margin:0; padding: 0}\n",
       ".list-inline>li {display: inline-block}\n",
       ".list-inline>li:not(:last-child)::after {content: \"\\00b7\"; padding: 0 .5ex}\n",
       "</style>\n",
       "<ol class=list-inline><li>13907</li><li>40</li></ol>\n"
      ],
      "text/latex": [
       "\\begin{enumerate*}\n",
       "\\item 13907\n",
       "\\item 40\n",
       "\\end{enumerate*}\n"
      ],
      "text/markdown": [
       "1. 13907\n",
       "2. 40\n",
       "\n",
       "\n"
      ],
      "text/plain": [
       "[1] 13907    40"
      ]
     },
     "metadata": {},
     "output_type": "display_data"
    }
   ],
   "source": [
    "selected_ids <- sample(1:nrow(train_dataset))\n",
    "\n",
    "# Splitting the dataset in half to get a train and validation sets. This repartition will be tweaked later.\n",
    "split <- floor(nrow(train_dataset)/2)\n",
    "\n",
    "# The target variable (status_group) is the last column\n",
    "target_variable <- ncol(train_dataset)\n",
    "\n",
    "train_full <- train_dataset[selected_ids[1:split],]\n",
    "valid_full <- train_dataset[selected_ids[(split+1):nrow(train_dataset)],]\n",
    "\n",
    "xtrain = train_full[, -target_variable]\n",
    "ytrain = train_full[, target_variable]\n",
    "xvalid = valid_full[, -target_variable]\n",
    "yvalid = valid_full[, target_variable]\n",
    "\n",
    "dim(xtrain)\n",
    "dim(xvalid)"
   ]
  },
  {
   "cell_type": "code",
   "execution_count": 94,
   "metadata": {},
   "outputs": [
    {
     "name": "stdout",
     "output_type": "stream",
     "text": [
      "Classification rate: 0.5529589"
     ]
    }
   ],
   "source": [
    "library(\"randomForest\")\n",
    "\n",
    "set.seed(42)\n",
    "RF = randomForest(x=xtrain,y=ytrain,xvalid,yvalid,ntree=300)\n",
    "cat(\"Classification rate:\",(RF$test$confusion[1,1]+RF$test$confusion[2,2])/length(yvalid))"
   ]
  },
  {
   "cell_type": "markdown",
   "metadata": {},
   "source": [
    "# Model selection\n",
    "\n",
    "## Model 1\n",
    "\n",
    "## Model 2\n",
    "\n",
    "## Model 3\n",
    "\n",
    "#### Example of simple equation\n",
    "\\begin{equation}\n",
    "e = mc^2\n",
    "\\end{equation}\n",
    "\n",
    "#### Example of matrix equation - Cross product formula:\n",
    "\n",
    "\\begin{equation*}\n",
    "\\mathbf{V}_1 \\times \\mathbf{V}_2 =  \\begin{vmatrix}\n",
    "\\mathbf{i} & \\mathbf{j} & \\mathbf{k} \\\\\n",
    "\\frac{\\partial X}{\\partial u} &  \\frac{\\partial Y}{\\partial u} & 0 \\\\\n",
    "\\frac{\\partial X}{\\partial v} &  \\frac{\\partial Y}{\\partial v} & 0\n",
    "\\end{vmatrix}\n",
    "\\end{equation*}\n",
    "\n",
    "#### Example of multiline equation - The Lorenz Equations:\n",
    "\n",
    "\\begin{align}\n",
    "\\dot{x} & = \\sigma(y-x) \\\\\n",
    "\\dot{y} & = \\rho x - y - xz \\\\\n",
    "\\dot{z} & = -\\beta z + xy\n",
    "\\end{align}\n",
    "\n",
    "#### Example of Markdown Table:\n",
    "\n",
    "| This | is   |\n",
    "|------|------|\n",
    "|   a  | table|\n"
   ]
  },
  {
   "cell_type": "markdown",
   "metadata": {},
   "source": [
    "# Alternative models\n",
    "\n",
    "\n",
    "\n"
   ]
  },
  {
   "cell_type": "markdown",
   "metadata": {},
   "source": [
    "# Conclusions"
   ]
  }
 ],
 "metadata": {
  "kernelspec": {
   "display_name": "R",
   "language": "R",
   "name": "ir"
  },
  "language_info": {
   "codemirror_mode": "r",
   "file_extension": ".r",
   "mimetype": "text/x-r-source",
   "name": "R",
   "pygments_lexer": "r",
   "version": "4.0.5"
  },
  "varInspector": {
   "cols": {
    "lenName": 16,
    "lenType": 16,
    "lenVar": 40
   },
   "kernels_config": {
    "python": {
     "delete_cmd_postfix": "",
     "delete_cmd_prefix": "del ",
     "library": "var_list.py",
     "varRefreshCmd": "print(var_dic_list())"
    },
    "r": {
     "delete_cmd_postfix": ") ",
     "delete_cmd_prefix": "rm(",
     "library": "var_list.r",
     "varRefreshCmd": "cat(var_dic_list()) "
    }
   },
   "types_to_exclude": [
    "module",
    "function",
    "builtin_function_or_method",
    "instance",
    "_Feature"
   ],
   "window_display": false
  }
 },
 "nbformat": 4,
 "nbformat_minor": 4
}
